{
 "cells": [
  {
   "cell_type": "markdown",
   "id": "d45ecd2c",
   "metadata": {},
   "source": [
    "## Building a Neural Network from Scratch for Fashion-MNIST\n",
    "\n",
    "#### Pre-processing Steps:\n",
    "- 1: Load Fashion MNIST Data\n",
    "- 2: Normalize Data\n",
    "- 3: Transpose and Reshape X data\n",
    "- 4: One-hot encode the y-data \n",
    "- 5: Initialize Weights and Biases Matrices\n",
    "\n",
    "#### Neural Network Steps:\n",
    "- 1: Forward Propogation\n",
    "- 2: Back Propogation\n",
    "- 3: Update Parameters"
   ]
  },
  {
   "cell_type": "code",
   "execution_count": 47,
   "id": "5fee9826",
   "metadata": {},
   "outputs": [
    {
     "name": "stdout",
     "output_type": "stream",
     "text": [
      "Iteration 0: Accuracy = 0.09641666666666666\n",
      "Iteration 100: Accuracy = 0.6231166666666667\n",
      "Iteration 200: Accuracy = 0.6810666666666667\n",
      "Iteration 300: Accuracy = 0.7204166666666667\n",
      "Iteration 400: Accuracy = 0.7386666666666667\n",
      "Iteration 500: Accuracy = 0.7489666666666667\n",
      "Iteration 600: Accuracy = 0.7574833333333333\n",
      "Iteration 700: Accuracy = 0.76535\n",
      "Iteration 800: Accuracy = 0.7718\n",
      "Iteration 900: Accuracy = 0.77775\n",
      "Iteration 1000: Accuracy = 0.7828833333333334\n",
      "Iteration 1100: Accuracy = 0.78795\n",
      "Iteration 1200: Accuracy = 0.7924833333333333\n",
      "Iteration 1300: Accuracy = 0.7993666666666667\n",
      "Iteration 1400: Accuracy = 0.8021\n",
      "Iteration 1500: Accuracy = 0.8045333333333333\n",
      "Iteration 1600: Accuracy = 0.8065166666666667\n",
      "Iteration 1700: Accuracy = 0.8084833333333333\n",
      "Iteration 1800: Accuracy = 0.8105\n",
      "Iteration 1900: Accuracy = 0.8115333333333333\n",
      "Iteration 2000: Accuracy = 0.8127666666666666\n"
     ]
    }
   ],
   "source": [
    "import numpy as np\n",
    "import tensorflow as tf\n",
    "from tensorflow.keras.datasets import fashion_mnist\n",
    "\n",
    "# Load Fashion-MNIST dataset\n",
    "(X_train, y_train), (X_test, y_test) = fashion_mnist.load_data()\n",
    "\n",
    "# Normalize the data\n",
    "X_train = X_train / 255.0\n",
    "X_test = X_test / 255.0\n",
    "\n",
    "# Flatten images for the neural network\n",
    "X_train = X_train.reshape(X_train.shape[0], -1).T\n",
    "X_test = X_test.reshape(X_test.shape[0], -1).T\n",
    "\n",
    "\n",
    "# Convert y to one-hot encoding\n",
    "def one_hot(Y):\n",
    "    one_hot_Y = np.zeros((Y.size, Y.max() + 1))\n",
    "    one_hot_Y[np.arange(Y.size), Y] = 1\n",
    "    one_hot_Y = one_hot_Y.T\n",
    "    return one_hot_Y\n",
    "\n",
    "y_train_one_hot = one_hot(y_train)\n",
    "y_test_one_hot = one_hot(y_test)\n",
    "\n",
    "\n",
    "# Initialize random weights and biases\n",
    "def init_params():\n",
    "    W1 = np.random.rand(10, 784) - 0.5\n",
    "    b1 = np.random.rand(10, 1) - 0.5\n",
    "    W2 = np.random.rand(10, 10) - 0.5\n",
    "    b2 = np.random.rand(10, 1) - 0.5\n",
    "    return W1, b1, W2, b2\n",
    "\n",
    "# Define a ReLU Activation Function\n",
    "def ReLU(Z):\n",
    "    # If Z > 0; return Z\n",
    "    # Else; return 0\n",
    "    return np.maximum(0, Z)\n",
    "\n",
    "# Define a Softmax Activation Function\n",
    "def softmax(Z):\n",
    "    # e^z / Σ e^z\n",
    "    # Returns a Probabilistic Value\n",
    "    A = np.exp(Z) / sum(np.exp(Z))\n",
    "    return A\n",
    "\n",
    "def forward_propagation(W1, b1, W2, b2, X):\n",
    "    # W1: Weights of first layer\n",
    "    # B1: Bias of first layer\n",
    "    # W2: Weights of second layer\n",
    "    # B2: Bias of second layer\n",
    "    \n",
    "    #Steps:\n",
    "    # Z1 = W1*X + b1\n",
    "    # A1 = ReLU(Z1)\n",
    "    # Z2 = W2*A1 + b2\n",
    "    # A2 = Softmax(Z2)\n",
    "    \n",
    "    Z1 = np.dot(W1, X) + b1\n",
    "    A1 = ReLU(Z1)\n",
    "    Z2 = np.dot(W2, A1) + b2\n",
    "    A2 = softmax(Z2)\n",
    "    return Z1, A1, Z2, A2\n",
    "\n",
    "# Derivative of ReLU\n",
    "def ReluDerivative(Z):\n",
    "    # 1 if Z > 0\n",
    "    # 0 if Z < 0\n",
    "    return Z > 0\n",
    "    \n",
    "\n",
    "def backpropagation(Z1, A1, Z2, A2, W2, X, Y):\n",
    "    \n",
    "    m = X.shape[1]\n",
    "\n",
    "    # Calculate probability vector and actual answer\n",
    "    dZ2 = A2 - Y\n",
    "    \n",
    "    # Compute the gradient of W2 (weights of the output layer) \n",
    "    dW2 = 1 / m * dZ2.dot(A1.T)\n",
    "    \n",
    "    # Compute the gradient of b2\n",
    "    db2 = 1 / m * np.sum(dZ2) # Sum over all examples and average\n",
    "    \n",
    "    # Compute the gradient of Z1 (hidden layer pre-activation) using chain rule\n",
    "    dZ1 = W2.T.dot(dZ2) * ReluDerivative(Z1)\n",
    "    \n",
    "    # Compute the gradient of W1 (weights of the first layer)\n",
    "    dW1 = 1 / m * dZ1.dot(X.T)\n",
    "    # Compute the gradient of b2\n",
    "    db1 = 1 / m * np.sum(dZ1)\n",
    "    return dW1, db1, dW2, db2\n",
    "\n",
    "\n",
    "def update_params(W1, b1, W2, b2, dW1, db1, dW2, db2, learning_rate):\n",
    "    # Update Weights and Biases from gradients\n",
    "    W1 -= learning_rate * dW1\n",
    "    b1 -= learning_rate * db1\n",
    "    W2 -= learning_rate * dW2\n",
    "    b2 -= learning_rate * db2\n",
    "    return W1, b1, W2, b2\n",
    "\n",
    "\n",
    "\n",
    "\n",
    "def train_neural_network(X, Y, iterations=2000, learning_rate=0.1):\n",
    "    W1, b1, W2, b2 = init_params()\n",
    "    for i in range(iterations+1):\n",
    "        Z1, A1, Z2, A2 = forward_propagation(W1, b1, W2, b2, X)\n",
    "        dW1, db1, dW2, db2 = backpropagation(Z1, A1, Z2, A2, W2, X, Y)\n",
    "        W1, b1, W2, b2 = update_params(W1, b1, W2, b2, dW1, db1, dW2, db2, learning_rate)\n",
    "        if i % 100 == 0:\n",
    "            predictions = np.argmax(A2, axis=0)\n",
    "            accuracy = np.mean(predictions == np.argmax(Y, axis=0))\n",
    "            print(f\"Iteration {i}: Accuracy = {accuracy}\")\n",
    "    return W1, b1, W2, b2\n",
    "\n",
    "# Train the neural network\n",
    "trained_W1, trained_b1, trained_W2, trained_b2 = train_neural_network(X_train, y_train_one_hot)\n"
   ]
  },
  {
   "cell_type": "markdown",
   "id": "af0a7866",
   "metadata": {},
   "source": [
    "### Test Accuracy:"
   ]
  },
  {
   "cell_type": "code",
   "execution_count": 48,
   "id": "cdf135b1",
   "metadata": {},
   "outputs": [
    {
     "name": "stdout",
     "output_type": "stream",
     "text": [
      "Test Accuracy: 0.802\n"
     ]
    }
   ],
   "source": [
    "def test_neural_network(W1, b1, W2, b2, X_test, Y_test):\n",
    "    _, _, _, output = forward_propagation(W1, b1, W2, b2, X_test)\n",
    "    \n",
    "    predictions = np.argmax(output, axis=0)\n",
    "    accuracy = np.mean(predictions == np.argmax(Y_test, axis=0))\n",
    "    print(f\"Test Accuracy: {accuracy}\")\n",
    "    return accuracy\n",
    "\n",
    "# Run the test function on the trained model\n",
    "test_accuracy = test_neural_network(trained_W1, trained_b1, trained_W2, trained_b2, X_test, y_test_one_hot)\n"
   ]
  },
  {
   "cell_type": "markdown",
   "id": "6cfdbc28",
   "metadata": {},
   "source": [
    "## Testing 5 examples"
   ]
  },
  {
   "cell_type": "code",
   "execution_count": 50,
   "id": "aef162b7",
   "metadata": {},
   "outputs": [
    {
     "data": {
      "image/png": "[encoded data removed]",
      "text/plain": [
       "<Figure size 1000x200 with 5 Axes>"
      ]
     },
     "metadata": {},
     "output_type": "display_data"
    }
   ],
   "source": [
    "import matplotlib.pyplot as plt\n",
    "\n",
    "def test_random_examples(W1, b1, W2, b2, X_test, Y_test, num_examples=5):\n",
    "    indices = np.random.choice(X_test.shape[1], num_examples, replace=False)  # Select random indices\n",
    "    X_sample = X_test[:, indices]  \n",
    "    Y_sample = Y_test[:, indices]  \n",
    "\n",
    "\n",
    "    _, _, _, output = forward_propagation(W1, b1, W2, b2, X_sample)\n",
    "    predictions = np.argmax(output, axis=0)\n",
    "\n",
    "    # Plot the images with predictions\n",
    "    fig, axes = plt.subplots(1, num_examples, figsize=(10, 2))\n",
    "    for i, ax in enumerate(axes):\n",
    "        ax.imshow(X_sample[:, i].reshape(28, 28), cmap='gray')\n",
    "        ax.set_title(f\"Prediction: {predictions[i]}\\nActual: {np.argmax(Y_sample[:, i])}\")\n",
    "        ax.axis('off')\n",
    "\n",
    "    plt.show()\n",
    "\n",
    "# Run the function to test random examples\n",
    "test_random_examples(trained_W1, trained_b1, trained_W2, trained_b2, x_test, y_test_one_hot)\n"
   ]
  },
  {
   "cell_type": "code",
   "execution_count": null,
   "id": "d45a9f16",
   "metadata": {},
   "outputs": [],
   "source": []
  }
 ],
 "metadata": {
  "kernelspec": {
   "display_name": "Python 3 (ipykernel)",
   "language": "python",
   "name": "python3"
  },
  "language_info": {
   "codemirror_mode": {
    "name": "ipython",
    "version": 3
   },
   "file_extension": ".py",
   "mimetype": "text/x-python",
   "name": "python",
   "nbconvert_exporter": "python",
   "pygments_lexer": "ipython3",
   "version": "3.11.4"
  }
 },
 "nbformat": 4,
 "nbformat_minor": 5
}
